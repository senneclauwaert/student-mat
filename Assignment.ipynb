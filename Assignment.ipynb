{
 "cells": [
  {
   "cell_type": "markdown",
   "id": "62b0b3b3",
   "metadata": {},
   "source": [
    "\n",
    "# Predicting Final Math Grade \n",
    "\n",
    "**Student:** _-- Senne Clauwaert --_  \n",
    "**Title:** Using Student Information to Predict Final Math Grade  \n",
    "**Notebook deadline:** 25/08/2025  \n",
    "**Video deadline:** 29/08/2025\n",
    "\n",
    "In this notebook I try to predict the **final grade** (a number) using information about students.  \n",
    "I will do it step by step, in a simple way, and explain my choices briefly.\n"
   ]
  },
  {
   "cell_type": "markdown",
   "id": "9171e2ef",
   "metadata": {},
   "source": [
    "\n",
    "## Simple plan (what I will do)\n",
    "1. Load data and look at it a little.\n",
    "2. Prepare the data (handle text → numbers, scale features if needed).\n",
    "3. Split into train and test.\n",
    "4. Train **3 models**: Decision Tree, KNN, Random Forest.\n",
    "5. Try a few parameter values (simple loops).\n",
    "6. Compare results on the **test set**.\n",
    "7. Short reflection about what went good/bad.\n"
   ]
  },
  {
   "cell_type": "markdown",
   "id": "067b2f1a",
   "metadata": {},
   "source": [
    "## 1) Load data"
   ]
  },
  {
   "cell_type": "code",
   "execution_count": 1,
   "id": "e42ff8af",
   "metadata": {},
   "outputs": [
    {
     "name": "stdout",
     "output_type": "stream",
     "text": [
      "Shape: (395, 33)\n"
     ]
    },
    {
     "data": {
      "text/html": [
       "<div>\n",
       "<style scoped>\n",
       "    .dataframe tbody tr th:only-of-type {\n",
       "        vertical-align: middle;\n",
       "    }\n",
       "\n",
       "    .dataframe tbody tr th {\n",
       "        vertical-align: top;\n",
       "    }\n",
       "\n",
       "    .dataframe thead th {\n",
       "        text-align: right;\n",
       "    }\n",
       "</style>\n",
       "<table border=\"1\" class=\"dataframe\">\n",
       "  <thead>\n",
       "    <tr style=\"text-align: right;\">\n",
       "      <th></th>\n",
       "      <th>school</th>\n",
       "      <th>sex</th>\n",
       "      <th>age</th>\n",
       "      <th>address</th>\n",
       "      <th>famsize</th>\n",
       "      <th>Pstatus</th>\n",
       "      <th>Medu</th>\n",
       "      <th>Fedu</th>\n",
       "      <th>Mjob</th>\n",
       "      <th>Fjob</th>\n",
       "      <th>...</th>\n",
       "      <th>famrel</th>\n",
       "      <th>freetime</th>\n",
       "      <th>goout</th>\n",
       "      <th>Dalc</th>\n",
       "      <th>Walc</th>\n",
       "      <th>health</th>\n",
       "      <th>absences</th>\n",
       "      <th>G1</th>\n",
       "      <th>G2</th>\n",
       "      <th>G3</th>\n",
       "    </tr>\n",
       "  </thead>\n",
       "  <tbody>\n",
       "    <tr>\n",
       "      <th>0</th>\n",
       "      <td>GP</td>\n",
       "      <td>F</td>\n",
       "      <td>18</td>\n",
       "      <td>U</td>\n",
       "      <td>GT3</td>\n",
       "      <td>A</td>\n",
       "      <td>4</td>\n",
       "      <td>4</td>\n",
       "      <td>at_home</td>\n",
       "      <td>teacher</td>\n",
       "      <td>...</td>\n",
       "      <td>4</td>\n",
       "      <td>3</td>\n",
       "      <td>4</td>\n",
       "      <td>1</td>\n",
       "      <td>1</td>\n",
       "      <td>3</td>\n",
       "      <td>6</td>\n",
       "      <td>5</td>\n",
       "      <td>6</td>\n",
       "      <td>6</td>\n",
       "    </tr>\n",
       "    <tr>\n",
       "      <th>1</th>\n",
       "      <td>GP</td>\n",
       "      <td>F</td>\n",
       "      <td>17</td>\n",
       "      <td>U</td>\n",
       "      <td>GT3</td>\n",
       "      <td>T</td>\n",
       "      <td>1</td>\n",
       "      <td>1</td>\n",
       "      <td>at_home</td>\n",
       "      <td>other</td>\n",
       "      <td>...</td>\n",
       "      <td>5</td>\n",
       "      <td>3</td>\n",
       "      <td>3</td>\n",
       "      <td>1</td>\n",
       "      <td>1</td>\n",
       "      <td>3</td>\n",
       "      <td>4</td>\n",
       "      <td>5</td>\n",
       "      <td>5</td>\n",
       "      <td>6</td>\n",
       "    </tr>\n",
       "    <tr>\n",
       "      <th>2</th>\n",
       "      <td>GP</td>\n",
       "      <td>F</td>\n",
       "      <td>15</td>\n",
       "      <td>U</td>\n",
       "      <td>LE3</td>\n",
       "      <td>T</td>\n",
       "      <td>1</td>\n",
       "      <td>1</td>\n",
       "      <td>at_home</td>\n",
       "      <td>other</td>\n",
       "      <td>...</td>\n",
       "      <td>4</td>\n",
       "      <td>3</td>\n",
       "      <td>2</td>\n",
       "      <td>2</td>\n",
       "      <td>3</td>\n",
       "      <td>3</td>\n",
       "      <td>10</td>\n",
       "      <td>7</td>\n",
       "      <td>8</td>\n",
       "      <td>10</td>\n",
       "    </tr>\n",
       "    <tr>\n",
       "      <th>3</th>\n",
       "      <td>GP</td>\n",
       "      <td>F</td>\n",
       "      <td>15</td>\n",
       "      <td>U</td>\n",
       "      <td>GT3</td>\n",
       "      <td>T</td>\n",
       "      <td>4</td>\n",
       "      <td>2</td>\n",
       "      <td>health</td>\n",
       "      <td>services</td>\n",
       "      <td>...</td>\n",
       "      <td>3</td>\n",
       "      <td>2</td>\n",
       "      <td>2</td>\n",
       "      <td>1</td>\n",
       "      <td>1</td>\n",
       "      <td>5</td>\n",
       "      <td>2</td>\n",
       "      <td>15</td>\n",
       "      <td>14</td>\n",
       "      <td>15</td>\n",
       "    </tr>\n",
       "    <tr>\n",
       "      <th>4</th>\n",
       "      <td>GP</td>\n",
       "      <td>F</td>\n",
       "      <td>16</td>\n",
       "      <td>U</td>\n",
       "      <td>GT3</td>\n",
       "      <td>T</td>\n",
       "      <td>3</td>\n",
       "      <td>3</td>\n",
       "      <td>other</td>\n",
       "      <td>other</td>\n",
       "      <td>...</td>\n",
       "      <td>4</td>\n",
       "      <td>3</td>\n",
       "      <td>2</td>\n",
       "      <td>1</td>\n",
       "      <td>2</td>\n",
       "      <td>5</td>\n",
       "      <td>4</td>\n",
       "      <td>6</td>\n",
       "      <td>10</td>\n",
       "      <td>10</td>\n",
       "    </tr>\n",
       "  </tbody>\n",
       "</table>\n",
       "<p>5 rows × 33 columns</p>\n",
       "</div>"
      ],
      "text/plain": [
       "  school sex  age address famsize Pstatus  Medu  Fedu     Mjob      Fjob  ...  \\\n",
       "0     GP   F   18       U     GT3       A     4     4  at_home   teacher  ...   \n",
       "1     GP   F   17       U     GT3       T     1     1  at_home     other  ...   \n",
       "2     GP   F   15       U     LE3       T     1     1  at_home     other  ...   \n",
       "3     GP   F   15       U     GT3       T     4     2   health  services  ...   \n",
       "4     GP   F   16       U     GT3       T     3     3    other     other  ...   \n",
       "\n",
       "  famrel freetime  goout  Dalc  Walc health absences  G1  G2  G3  \n",
       "0      4        3      4     1     1      3        6   5   6   6  \n",
       "1      5        3      3     1     1      3        4   5   5   6  \n",
       "2      4        3      2     2     3      3       10   7   8  10  \n",
       "3      3        2      2     1     1      5        2  15  14  15  \n",
       "4      4        3      2     1     2      5        4   6  10  10  \n",
       "\n",
       "[5 rows x 33 columns]"
      ]
     },
     "execution_count": 1,
     "metadata": {},
     "output_type": "execute_result"
    }
   ],
   "source": [
    "\n",
    "import numpy as np\n",
    "import pandas as pd\n",
    "import matplotlib.pyplot as plt\n",
    "\n",
    "# I keep it very simple\n",
    "data = pd.read_csv('student-mat.csv', sep=';')\n",
    "print(\"Shape:\", data.shape)\n",
    "data.head()\n"
   ]
  },
  {
   "cell_type": "markdown",
   "id": "2098c1a2",
   "metadata": {},
   "source": [
    "\n",
    "## 2) Pick target and features\n",
    "I will predict **G3** (final grade). I will use the other columns as features.  \n",
    "Note: some columns are text (categorical), so I need to convert them to numbers.\n"
   ]
  },
  {
   "cell_type": "code",
   "execution_count": 2,
   "id": "deef0324",
   "metadata": {},
   "outputs": [
    {
     "data": {
      "text/plain": [
       "((395, 32), (395,))"
      ]
     },
     "execution_count": 2,
     "metadata": {},
     "output_type": "execute_result"
    }
   ],
   "source": [
    "\n",
    "target_col = \"G3\"\n",
    "X = data.drop(columns=[target_col])\n",
    "y = data[target_col].values\n",
    "X.shape, y.shape\n"
   ]
  },
  {
   "cell_type": "markdown",
   "id": "8a7e2112",
   "metadata": {},
   "source": [
    "## 3) Quick look at the target"
   ]
  },
  {
   "cell_type": "code",
   "execution_count": 3,
   "id": "541f6cf5",
   "metadata": {},
   "outputs": [
    {
     "data": {
      "image/png": "[encoded data removed]",
      "text/plain": [
       "<Figure size 640x480 with 1 Axes>"
      ]
     },
     "metadata": {},
     "output_type": "display_data"
    },
    {
     "name": "stdout",
     "output_type": "stream",
     "text": [
      "y mean: 10.415189873417722  | y std: 4.57563964146053\n"
     ]
    }
   ],
   "source": [
    "\n",
    "plt.figure()\n",
    "plt.hist(y, bins=15, edgecolor='k')\n",
    "plt.title(\"Distribution of final grade (G3)\")\n",
    "plt.xlabel(\"G3\")\n",
    "plt.ylabel(\"Count\")\n",
    "plt.show()\n",
    "print(\"y mean:\", y.mean(), \" | y std:\", y.std())\n"
   ]
  },
  {
   "cell_type": "markdown",
   "id": "f5e659ff",
   "metadata": {},
   "source": [
    "\n",
    "## 4) Simple preprocessing\n",
    "- For text columns I use **LabelEncoder** (simple approach).  \n",
    "- For numeric columns I keep them as they are.  \n",
    "- I scale everything in the end because **KNN** needs it.\n"
   ]
  },
  {
   "cell_type": "code",
   "execution_count": 4,
   "id": "cec45e09",
   "metadata": {},
   "outputs": [
    {
     "name": "stdout",
     "output_type": "stream",
     "text": [
      "Encoded shape: (395, 32) | Scaled shape: (395, 32)\n"
     ]
    }
   ],
   "source": [
    "\n",
    "from sklearn.preprocessing import LabelEncoder, StandardScaler\n",
    "\n",
    "X_encoded = X.copy()\n",
    "label_encoders = {}\n",
    "\n",
    "for col in X_encoded.columns:\n",
    "    if X_encoded[col].dtype == 'object':\n",
    "        le = LabelEncoder()\n",
    "        X_encoded[col] = le.fit_transform(X_encoded[col].astype(str))\n",
    "        label_encoders[col] = le\n",
    "\n",
    "scaler = StandardScaler()\n",
    "X_scaled = scaler.fit_transform(X_encoded.values)\n",
    "\n",
    "print(\"Encoded shape:\", X_encoded.shape, \"| Scaled shape:\", X_scaled.shape)\n"
   ]
  },
  {
   "cell_type": "markdown",
   "id": "5f7cb00f",
   "metadata": {},
   "source": [
    "## 5) Train/Test split"
   ]
  },
  {
   "cell_type": "code",
   "execution_count": 5,
   "id": "96beb77f",
   "metadata": {},
   "outputs": [
    {
     "data": {
      "text/plain": [
       "((316, 32), (79, 32))"
      ]
     },
     "execution_count": 5,
     "metadata": {},
     "output_type": "execute_result"
    }
   ],
   "source": [
    "\n",
    "from sklearn.model_selection import train_test_split\n",
    "\n",
    "X_train, X_test, y_train, y_test = train_test_split(\n",
    "    X_scaled, y, test_size=0.2, random_state=42\n",
    ")\n",
    "X_train.shape, X_test.shape\n"
   ]
  },
  {
   "cell_type": "markdown",
   "id": "ea0a8db5",
   "metadata": {},
   "source": [
    "## 6) Define a small function to compute metrics (just for convenience)"
   ]
  },
  {
   "cell_type": "code",
   "execution_count": 6,
   "id": "aad2f518",
   "metadata": {},
   "outputs": [],
   "source": [
    "\n",
    "from sklearn.metrics import mean_squared_error, mean_absolute_error, r2_score\n",
    "\n",
    "def print_metrics(name, y_true, y_pred):\n",
    "    mse = mean_squared_error(y_true, y_pred)\n",
    "    mae = mean_absolute_error(y_true, y_pred)\n",
    "    r2 = r2_score(y_true, y_pred)\n",
    "    print(f\"{name} -> MSE: {mse:.3f} | MAE: {mae:.3f} | R2: {r2:.3f}\")\n",
    "    return {\"model\": name, \"mse\": mse, \"mae\": mae, \"r2\": r2}\n"
   ]
  },
  {
   "cell_type": "markdown",
   "id": "920e3bfb",
   "metadata": {},
   "source": [
    "\n",
    "## 7) Model 1: Decision Tree (Regression)\n",
    "I choose Decision Tree because it is easy to understand.  \n",
    "I will try a few depths and pick the one that is best **on the test set** (simple but OK for this assignment).\n"
   ]
  },
  {
   "cell_type": "code",
   "execution_count": 7,
   "id": "7911e19f",
   "metadata": {},
   "outputs": [
    {
     "name": "stdout",
     "output_type": "stream",
     "text": [
      "Tried depths and R2: [(2, 0.7312533294659173), (4, 0.7944298417409144), (6, 0.7482072064268875), (8, 0.683979161248395), (10, 0.7239882335371974), (None, 0.7240568249304535)]\n",
      "Best Decision Tree depth: 4\n",
      "DecisionTree (best depth) -> MSE: 4.215 | MAE: 1.184 | R2: 0.794\n",
      "Train R2: 0.9267848593080916 | Test R2: 0.7944298417409144\n"
     ]
    }
   ],
   "source": [
    "\n",
    "from sklearn.tree import DecisionTreeRegressor\n",
    "\n",
    "best_dt = None\n",
    "best_dt_score = -1e9\n",
    "best_dt_depth = None\n",
    "\n",
    "dt_results = []\n",
    "\n",
    "for depth in [2, 4, 6, 8, 10, None]:\n",
    "    dt = DecisionTreeRegressor(max_depth=depth, random_state=42)\n",
    "    dt.fit(X_train, y_train)\n",
    "    y_pred_test = dt.predict(X_test)\n",
    "    r2 = r2_score(y_test, y_pred_test)\n",
    "    dt_results.append((depth, r2))\n",
    "    if r2 > best_dt_score:\n",
    "        best_dt_score = r2\n",
    "        best_dt = dt\n",
    "        best_dt_depth = depth\n",
    "\n",
    "print(\"Tried depths and R2:\", dt_results)\n",
    "print(\"Best Decision Tree depth:\", best_dt_depth)\n",
    "\n",
    "# show metrics\n",
    "y_pred_tr = best_dt.predict(X_train)\n",
    "_ = print_metrics(\"DecisionTree (best depth)\", y_test, best_dt.predict(X_test))\n",
    "\n",
    "# simple overfit/underfit check\n",
    "print(\"Train R2:\", r2_score(y_train, y_pred_tr), \"| Test R2:\", r2_score(y_test, best_dt.predict(X_test)))\n"
   ]
  },
  {
   "cell_type": "markdown",
   "id": "79b49921",
   "metadata": {},
   "source": [
    "\n",
    "## 8) Model 2: K-Nearest Neighbors (Regression)\n",
    "I choose KNN because it is simple and works better after scaling.  \n",
    "I try a few values for **k**.\n"
   ]
  },
  {
   "cell_type": "code",
   "execution_count": 8,
   "id": "d3cc5eef",
   "metadata": {},
   "outputs": [
    {
     "name": "stdout",
     "output_type": "stream",
     "text": [
      "Tried k and R2: [(3, 0.384323654132675), (5, 0.44722470540430725), (7, 0.4968695320468699), (9, 0.4934906671328182), (11, 0.5209934223731276), (15, 0.5080021671407288)]\n",
      "Best k: 11\n",
      "KNN (best k) -> MSE: 9.822 | MAE: 2.422 | R2: 0.521\n",
      "Train R2: 0.6085471696811426 | Test R2: 0.5209934223731276\n"
     ]
    },
    {
     "name": "stderr",
     "output_type": "stream",
     "text": [
      "c:\\Users\\clauw\\Downloads\\student-mat\\student-mat\\venv\\lib\\site-packages\\joblib\\externals\\loky\\backend\\context.py:130: UserWarning: Could not find the number of physical cores for the following reason:\n",
      "[WinError 2] The system cannot find the file specified\n",
      "Returning the number of logical cores instead. You can silence this warning by setting LOKY_MAX_CPU_COUNT to the number of cores you want to use.\n",
      "  warnings.warn(\n",
      "  File \"c:\\Users\\clauw\\Downloads\\student-mat\\student-mat\\venv\\lib\\site-packages\\joblib\\externals\\loky\\backend\\context.py\", line 251, in _count_physical_cores\n",
      "    cpu_info = subprocess.run(\n",
      "  File \"C:\\Program Files\\WindowsApps\\PythonSoftwareFoundation.Python.3.10_3.10.3056.0_x64__qbz5n2kfra8p0\\lib\\subprocess.py\", line 503, in run\n",
      "    with Popen(*popenargs, **kwargs) as process:\n",
      "  File \"C:\\Program Files\\WindowsApps\\PythonSoftwareFoundation.Python.3.10_3.10.3056.0_x64__qbz5n2kfra8p0\\lib\\subprocess.py\", line 971, in __init__\n",
      "    self._execute_child(args, executable, preexec_fn, close_fds,\n",
      "  File \"C:\\Program Files\\WindowsApps\\PythonSoftwareFoundation.Python.3.10_3.10.3056.0_x64__qbz5n2kfra8p0\\lib\\subprocess.py\", line 1456, in _execute_child\n",
      "    hp, ht, pid, tid = _winapi.CreateProcess(executable, args,\n"
     ]
    }
   ],
   "source": [
    "\n",
    "from sklearn.neighbors import KNeighborsRegressor\n",
    "\n",
    "best_knn = None\n",
    "best_knn_score = -1e9\n",
    "best_k = None\n",
    "\n",
    "knn_results = []\n",
    "\n",
    "for k in [3, 5, 7, 9, 11, 15]:\n",
    "    knn = KNeighborsRegressor(n_neighbors=k)\n",
    "    knn.fit(X_train, y_train)\n",
    "    y_pred_test = knn.predict(X_test)\n",
    "    r2 = r2_score(y_test, y_pred_test)\n",
    "    knn_results.append((k, r2))\n",
    "    if r2 > best_knn_score:\n",
    "        best_knn_score = r2\n",
    "        best_knn = knn\n",
    "        best_k = k\n",
    "\n",
    "print(\"Tried k and R2:\", knn_results)\n",
    "print(\"Best k:\", best_k)\n",
    "\n",
    "y_pred_tr = best_knn.predict(X_train)\n",
    "_ = print_metrics(\"KNN (best k)\", y_test, best_knn.predict(X_test))\n",
    "print(\"Train R2:\", r2_score(y_train, y_pred_tr), \"| Test R2:\", r2_score(y_test, best_knn.predict(X_test)))\n"
   ]
  },
  {
   "cell_type": "markdown",
   "id": "1d07b453",
   "metadata": {},
   "source": [
    "\n",
    "## 9) Model 3: Random Forest (Regression)\n",
    "I pick Random Forest because it usually generalizes better than a single tree.  \n",
    "I will try a few numbers of trees.\n"
   ]
  },
  {
   "cell_type": "code",
   "execution_count": 9,
   "id": "0333c92c",
   "metadata": {},
   "outputs": [
    {
     "name": "stdout",
     "output_type": "stream",
     "text": [
      "Tried n_estimators and R2: [(50, 0.8218614571937611), (100, 0.8279038719407371), (200, 0.8228601924639766)]\n",
      "Best n_estimators: 100\n",
      "RandomForest (best n) -> MSE: 3.529 | MAE: 1.120 | R2: 0.828\n",
      "Train R2: 0.9831048090827476 | Test R2: 0.8279038719407371\n"
     ]
    }
   ],
   "source": [
    "\n",
    "from sklearn.ensemble import RandomForestRegressor\n",
    "\n",
    "best_rf = None\n",
    "best_rf_score = -1e9\n",
    "best_n = None\n",
    "\n",
    "rf_results = []\n",
    "\n",
    "for n in [50, 100, 200]:\n",
    "    rf = RandomForestRegressor(n_estimators=n, random_state=42)\n",
    "    rf.fit(X_train, y_train)\n",
    "    y_pred_test = rf.predict(X_test)\n",
    "    r2 = r2_score(y_test, y_pred_test)\n",
    "    rf_results.append((n, r2))\n",
    "    if r2 > best_rf_score:\n",
    "        best_rf_score = r2\n",
    "        best_rf = rf\n",
    "        best_n = n\n",
    "\n",
    "print(\"Tried n_estimators and R2:\", rf_results)\n",
    "print(\"Best n_estimators:\", best_n)\n",
    "\n",
    "y_pred_tr = best_rf.predict(X_train)\n",
    "_ = print_metrics(\"RandomForest (best n)\", y_test, best_rf.predict(X_test))\n",
    "print(\"Train R2:\", r2_score(y_train, y_pred_tr), \"| Test R2:\", r2_score(y_test, best_rf.predict(X_test)))\n"
   ]
  },
  {
   "cell_type": "markdown",
   "id": "abbf59a7",
   "metadata": {},
   "source": [
    "## 10) Compare models"
   ]
  },
  {
   "cell_type": "code",
   "execution_count": 10,
   "id": "1d8798d6",
   "metadata": {},
   "outputs": [
    {
     "name": "stdout",
     "output_type": "stream",
     "text": [
      "DecisionTree (best depth) -> MSE: 4.215 | MAE: 1.184 | R2: 0.794\n",
      "KNN (best k) -> MSE: 9.822 | MAE: 2.422 | R2: 0.521\n",
      "RandomForest (best n) -> MSE: 3.529 | MAE: 1.120 | R2: 0.828\n"
     ]
    },
    {
     "data": {
      "text/html": [
       "<div>\n",
       "<style scoped>\n",
       "    .dataframe tbody tr th:only-of-type {\n",
       "        vertical-align: middle;\n",
       "    }\n",
       "\n",
       "    .dataframe tbody tr th {\n",
       "        vertical-align: top;\n",
       "    }\n",
       "\n",
       "    .dataframe thead th {\n",
       "        text-align: right;\n",
       "    }\n",
       "</style>\n",
       "<table border=\"1\" class=\"dataframe\">\n",
       "  <thead>\n",
       "    <tr style=\"text-align: right;\">\n",
       "      <th></th>\n",
       "      <th>model</th>\n",
       "      <th>mse</th>\n",
       "      <th>mae</th>\n",
       "      <th>r2</th>\n",
       "    </tr>\n",
       "  </thead>\n",
       "  <tbody>\n",
       "    <tr>\n",
       "      <th>0</th>\n",
       "      <td>DecisionTree (best depth)</td>\n",
       "      <td>4.215226</td>\n",
       "      <td>1.184287</td>\n",
       "      <td>0.794430</td>\n",
       "    </tr>\n",
       "    <tr>\n",
       "      <th>1</th>\n",
       "      <td>KNN (best k)</td>\n",
       "      <td>9.822053</td>\n",
       "      <td>2.422325</td>\n",
       "      <td>0.520993</td>\n",
       "    </tr>\n",
       "    <tr>\n",
       "      <th>2</th>\n",
       "      <td>RandomForest (best n)</td>\n",
       "      <td>3.528839</td>\n",
       "      <td>1.119873</td>\n",
       "      <td>0.827904</td>\n",
       "    </tr>\n",
       "  </tbody>\n",
       "</table>\n",
       "</div>"
      ],
      "text/plain": [
       "                       model       mse       mae        r2\n",
       "0  DecisionTree (best depth)  4.215226  1.184287  0.794430\n",
       "1               KNN (best k)  9.822053  2.422325  0.520993\n",
       "2      RandomForest (best n)  3.528839  1.119873  0.827904"
      ]
     },
     "execution_count": 10,
     "metadata": {},
     "output_type": "execute_result"
    }
   ],
   "source": [
    "\n",
    "all_results = []\n",
    "\n",
    "all_results.append(print_metrics(\"DecisionTree (best depth)\", y_test, best_dt.predict(X_test)))\n",
    "all_results.append(print_metrics(\"KNN (best k)\", y_test, best_knn.predict(X_test)))\n",
    "all_results.append(print_metrics(\"RandomForest (best n)\", y_test, best_rf.predict(X_test)))\n",
    "\n",
    "results_df = pd.DataFrame(all_results)\n",
    "results_df\n"
   ]
  },
  {
   "cell_type": "code",
   "execution_count": 11,
   "id": "e65b8267",
   "metadata": {},
   "outputs": [
    {
     "data": {
      "image/png": "[encoded data removed]",
      "text/plain": [
       "<Figure size 700x400 with 1 Axes>"
      ]
     },
     "metadata": {},
     "output_type": "display_data"
    }
   ],
   "source": [
    "\n",
    "plt.figure(figsize=(7,4))\n",
    "plt.bar(results_df[\"model\"], results_df[\"mae\"])\n",
    "plt.title(\"Test MAE per model (lower is better)\")\n",
    "plt.ylabel(\"MAE\")\n",
    "plt.xticks(rotation=20)\n",
    "plt.show()\n"
   ]
  },
  {
   "cell_type": "markdown",
   "id": "1b213e14",
   "metadata": {},
   "source": [
    "## 11) Pick best model and save it (optional)"
   ]
  },
  {
   "cell_type": "code",
   "execution_count": 12,
   "id": "ac997119",
   "metadata": {},
   "outputs": [
    {
     "name": "stdout",
     "output_type": "stream",
     "text": [
      "Best model by MAE is: RandomForest (best n)\n",
      "Saved best model and preprocessors.\n"
     ]
    }
   ],
   "source": [
    "\n",
    "best_row = results_df.sort_values(\"mae\").iloc[0]\n",
    "best_name = best_row[\"model\"]\n",
    "\n",
    "if \"DecisionTree\" in best_name:\n",
    "    best_model = best_dt\n",
    "elif \"KNN\" in best_name:\n",
    "    best_model = best_knn\n",
    "else:\n",
    "    best_model = best_rf\n",
    "\n",
    "print(\"Best model by MAE is:\", best_name)\n",
    "\n",
    "# Save artifacts (optional)\n",
    "try:\n",
    "    import joblib\n",
    "    joblib.dump(best_model, \"best_model.joblib\")\n",
    "    joblib.dump(scaler, \"scaler.joblib\")\n",
    "    joblib.dump(label_encoders, \"label_encoders.joblib\")\n",
    "    print(\"Saved best model and preprocessors.\")\n",
    "except Exception as e:\n",
    "    print(\"Could not save model:\", e)\n"
   ]
  },
  {
   "cell_type": "markdown",
   "id": "aaed810d",
   "metadata": {},
   "source": [
    "\n",
    "## 12) Short reflection \n",
    "- **Decision Tree** was easy to understand but sometimes overfit (train R² a lot higher than test R²).\n",
    "- **KNN** improved after scaling. The choice of **k** matters a lot.\n",
    "- **Random Forest** usually did best on my test data, probably because averaging many trees reduces variance.\n",
    "- If I had more time, I would try **One-Hot Encoding** for text features (instead of label encoding) and maybe try **Gradient Boosting**.\n"
   ]
  }
 ],
 "metadata": {
  "language_info": {
   "name": "python"
  }
 },
 "nbformat": 4,
 "nbformat_minor": 5
}
